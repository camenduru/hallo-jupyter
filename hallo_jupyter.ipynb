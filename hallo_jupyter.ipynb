{
  "cells": [
    {
      "cell_type": "markdown",
      "metadata": {
        "id": "view-in-github"
      },
      "source": [
        "[![Open In Colab](https://colab.research.google.com/assets/colab-badge.svg)](https://colab.research.google.com/github/camenduru/hallo-jupyter/blob/main/hallo_jupyter.ipynb)"
      ]
    },
    {
      "cell_type": "code",
      "execution_count": null,
      "metadata": {
        "id": "VjYy0F2gZIPR"
      },
      "outputs": [],
      "source": [
        "!sudo apt install ffmpeg\n",
        "%cd /content\n",
        "!git clone -b dev https://github.com/camenduru/hallo\n",
        "# !rm -rf /content/hallo/pretrained_models\n",
        "!git clone https://huggingface.co/audo/hallo /content/hallo/pretrained_models\n",
        "\n",
        "!pip install accelerate==0.28.0 audio-separator==0.17.2 av==12.1.0 bitsandbytes==0.43.1 decord==0.6.0 diffusers==0.27.2 einops==0.8.0 insightface==0.7.3 pylint==3.2.2\n",
        "!pip install mediapipe[vision]==0.10.14 mlflow==2.13.1 omegaconf==2.3.0 onnx2torch==1.5.14 onnx==1.16.1 onnxruntime==1.18.0 xformers==0.0.25 pre-commit==3.7.1 isort==5.13.2\n",
        "!pip install opencv-contrib-python==4.9.0.80 opencv-python-headless==4.9.0.80 opencv-python==4.9.0.80 omegaconf==2.3.0 onnxruntime==1.18.0 transformers==4.39.2 moviepy==1.0.3\n",
        "\n",
        "%cd /content/hallo\n",
        "!pip install ."
      ]
    },
    {
      "cell_type": "code",
      "execution_count": null,
      "metadata": {},
      "outputs": [],
      "source": [
        "%cd /content/hallo\n",
        "!python scripts/inference.py --source_image /content/hallo/examples/reference_images/2.jpg --driving_audio /content/hallo/examples/driving_audios/2.wav --output /content/output.mp4"
      ]
    }
  ],
  "metadata": {
    "accelerator": "GPU",
    "colab": {
      "gpuType": "T4",
      "provenance": []
    },
    "kernelspec": {
      "display_name": "Python 3",
      "name": "python3"
    },
    "language_info": {
      "name": "python"
    }
  },
  "nbformat": 4,
  "nbformat_minor": 0
}
